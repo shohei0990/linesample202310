{
 "cells": [
  {
   "cell_type": "code",
   "execution_count": 1,
   "metadata": {},
   "outputs": [
    {
     "name": "stdout",
     "output_type": "stream",
     "text": [
      "Collecting qrcodeNote: you may need to restart the kernel to use updated packages.\n",
      "\n",
      "  Downloading qrcode-7.4.2-py3-none-any.whl (46 kB)\n",
      "Collecting pypng\n",
      "  Downloading pypng-0.20220715.0-py3-none-any.whl (58 kB)\n",
      "Requirement already satisfied: colorama in c:\\users\\redgr\\appdata\\roaming\\python\\python39\\site-packages (from qrcode) (0.4.5)\n",
      "Requirement already satisfied: typing-extensions in c:\\users\\redgr\\anaconda3\\lib\\site-packages (from qrcode) (4.8.0)\n",
      "Installing collected packages: pypng, qrcode\n",
      "Successfully installed pypng-0.20220715.0 qrcode-7.4.2\n"
     ]
    }
   ],
   "source": [
    "pip install qrcode"
   ]
  },
  {
   "cell_type": "code",
   "execution_count": 1,
   "metadata": {},
   "outputs": [],
   "source": [
    "import qrcode\n",
    "\n",
    "# QRコードにエンコードしたいデータを指定\n",
    "data = \"https://www.example.com\"  # ここにQRコードにエンコードしたいデータを入力\n",
    "\n",
    "# QRコードオブジェクトを作成\n",
    "qr = qrcode.QRCode(\n",
    "    version=1,  # QRコードのバージョン (1から40まで)\n",
    "    error_correction=qrcode.constants.ERROR_CORRECT_L,  # 誤り訂正レベル (L, M, Q, H)\n",
    "    box_size=10,  # ボックスサイズ\n",
    "    border=4,     # 境界の幅\n",
    ")\n",
    "\n",
    "# データをQRコードに追加\n",
    "qr.add_data(data)\n",
    "\n",
    "# QRコードのマトリックスを生成\n",
    "qr.make(fit=True)\n",
    "\n",
    "# QRコードのイメージを取得\n",
    "img = qr.make_image(fill_color=\"black\", back_color=\"white\")\n",
    "\n",
    "# 画像を保存\n",
    "img.save(\"qr_code.png\")\n",
    "\n",
    "# 画像を表示\n",
    "img.show()"
   ]
  },
  {
   "cell_type": "code",
   "execution_count": 1,
   "metadata": {},
   "outputs": [
    {
     "name": "stdout",
     "output_type": "stream",
     "text": [
      "Collecting python-barcode\n",
      "  Downloading python_barcode-0.15.1-py3-none-any.whl (212 kB)\n",
      "Installing collected packages: python-barcode\n",
      "Successfully installed python-barcode-0.15.1\n",
      "Note: you may need to restart the kernel to use updated packages.\n"
     ]
    }
   ],
   "source": [
    "pip install python-barcode"
   ]
  },
  {
   "cell_type": "code",
   "execution_count": 9,
   "metadata": {},
   "outputs": [],
   "source": [
    "import barcode\n",
    "from barcode.writer import ImageWriter\n",
    "from PIL import Image\n",
    "\n",
    "str = '4569951116179'\n",
    "bc = barcode.get_barcode_class('jan')\n",
    "img = bc(str,writer=ImageWriter())\n",
    "img.save('barcode') \n",
    "\n",
    "# 以前のコードでバーコードをファイルに保存した後\n",
    "barcode_image = Image.open('barcode.png')\n",
    "barcode_image.show()"
   ]
  }
 ],
 "metadata": {
  "kernelspec": {
   "display_name": "Python 3",
   "language": "python",
   "name": "python3"
  },
  "language_info": {
   "codemirror_mode": {
    "name": "ipython",
    "version": 3
   },
   "file_extension": ".py",
   "mimetype": "text/x-python",
   "name": "python",
   "nbconvert_exporter": "python",
   "pygments_lexer": "ipython3",
   "version": "3.9.12"
  }
 },
 "nbformat": 4,
 "nbformat_minor": 2
}
