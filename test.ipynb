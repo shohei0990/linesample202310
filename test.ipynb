{
 "cells": [
  {
   "cell_type": "code",
   "execution_count": 4,
   "metadata": {},
   "outputs": [
    {
     "name": "stdout",
     "output_type": "stream",
     "text": [
      "Download target blob : saradaoutput\\*\n",
      "Directory Name :  \n",
      "File Name :  part-00000-671be45c-d166-471a-b67e-1c1de267d7ac-c000.json\n",
      "Directory Name :  \n",
      "File Name :  part-00000-72c0a7de-f2ad-41d7-a321-db7f21db288d-c000.json\n",
      "Directory Name :  \n",
      "File Name :  part-00000-ff5b28e5-4ae9-4fd1-bcca-e2dda5f1590a-c000.json\n"
     ]
    }
   ],
   "source": [
    "import os\n",
    "from azure.storage.blob import BlobServiceClient\n",
    "\n",
    "# 接続文字列\n",
    "CONNECTION_STRING = # コンテナ名\n",
    "CONTAINER_NAME = \"saradaoutput\"\n",
    "# ローカルファイルパス（BLOBのターゲットと同一名）\n",
    "LOCAL_PATH = \"saradaoutput\"\n",
    "\n",
    "# Blobファイルをローカルにダウンロード\n",
    "def blob_file_download():\n",
    "    # 接続文字列を用いてBlobServiceClientを作成\n",
    "    blob_service_client = BlobServiceClient.from_connection_string(CONNECTION_STRING)\n",
    "\n",
    "    # BLOB一覧の取得\n",
    "    blob_container = blob_service_client.get_container_client(CONTAINER_NAME)\n",
    "    blob_list = blob_container.list_blobs()\n",
    "\n",
    "    # BLOBデータのダウンロード\n",
    "    # BLOBデータのダウンロード\n",
    "    print(f'Download target blob : {os.path.join(LOCAL_PATH, \"*\")}')\n",
    "    for blob in blob_list :\n",
    "        # ディレクトリはスルー、ファイルのみダウンロード\n",
    "        if blob.size > 0 :\n",
    "            dirname, filename = os.path.split(blob.name)\n",
    "            print(\"Directory Name : \", dirname)\n",
    "            print(\"File Name : \", filename)\n",
    "            bytes = blob_container.get_blob_client(blob).download_blob().readall()\n",
    "            save_blob(os.path.join(LOCAL_PATH, filename), bytes)  # Save blob to LOCAL_PATH directory with the blob's filename\n",
    "\n",
    "\n",
    "# ダウンロードしたBlobファイルをローカルに保存します（既にファイルが存在した場合は上書処理）\n",
    "def save_blob(file_name, file_content):\n",
    "    # ディレクトリ(がなければ)作成\n",
    "    os.makedirs(os.path.dirname(file_name), exist_ok=True)\n",
    " \n",
    "    # ファイル保存（BLOBフォルダと同一構成で保存）\n",
    "    with open(file_name, \"wb\") as file:\n",
    "      file.write(file_content)\n",
    "\n",
    "\n",
    "if __name__ == \"__main__\":\n",
    "    blob_file_download()"
   ]
  },
  {
   "cell_type": "markdown",
   "metadata": {},
   "source": [
    "### ■ Azure Blob storage にクーポン画像を保存する"
   ]
  },
  {
   "cell_type": "code",
   "execution_count": null,
   "metadata": {},
   "outputs": [],
   "source": [
    "import qrcode\n",
    "\n",
    "# QRコードにエンコードしたいデータを指定\n",
    "data = \"https://www.example.com\"  # ここにQRコードにエンコードしたいデータを入力\n",
    "\n",
    "# QRコードオブジェクトを作成\n",
    "qr = qrcode.QRCode(\n",
    "    version=1,  # QRコードのバージョン (1から40まで)\n",
    "    error_correction=qrcode.constants.ERROR_CORRECT_L,  # 誤り訂正レベル (L, M, Q, H)\n",
    "    box_size=10,  # ボックスサイズ\n",
    "    border=4,     # 境界の幅\n",
    ")\n",
    "\n",
    "# データをQRコードに追加\n",
    "qr.add_data(data)\n",
    "\n",
    "# QRコードのマトリックスを生成\n",
    "qr.make(fit=True)\n",
    "\n",
    "# QRコードのイメージを取得\n",
    "img = qr.make_image(fill_color=\"black\", back_color=\"white\")\n",
    "\n",
    "# 画像を保存\n",
    "img.save(\"qr_code.png\")\n",
    "\n",
    "# 画像を表示\n",
    "img.show()"
   ]
  }
 ],
 "metadata": {
  "kernelspec": {
   "display_name": "Python 3",
   "language": "python",
   "name": "python3"
  },
  "language_info": {
   "codemirror_mode": {
    "name": "ipython",
    "version": 3
   },
   "file_extension": ".py",
   "mimetype": "text/x-python",
   "name": "python",
   "nbconvert_exporter": "python",
   "pygments_lexer": "ipython3",
   "version": "3.9.12"
  }
 },
 "nbformat": 4,
 "nbformat_minor": 2
}
